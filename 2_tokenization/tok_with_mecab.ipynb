{
 "cells": [
  {
   "cell_type": "markdown",
   "metadata": {},
   "source": [
    "### Mecab 클래스를 사용해서 train dataset, valid dataset, test dataset에서 형태소 분리를 한다."
   ]
  },
  {
   "cell_type": "code",
   "execution_count": 1,
   "metadata": {},
   "outputs": [],
   "source": [
    "from eunjeon import Mecab\n",
    "mecab = Mecab()"
   ]
  },
  {
   "cell_type": "code",
   "execution_count": 2,
   "metadata": {},
   "outputs": [
    {
     "data": {
      "text/plain": [
       "[('품사', 'NNG'),\n",
       " ('태', 'NNG'),\n",
       " ('깅을', 'UNKNOWN'),\n",
       " ('지원', 'NNG'),\n",
       " ('합니다', 'XSV+EC')]"
      ]
     },
     "execution_count": 2,
     "metadata": {},
     "output_type": "execute_result"
    }
   ],
   "source": [
    "mecab.pos(\"품사 태깅을 지원합니다\")"
   ]
  },
  {
   "cell_type": "code",
   "execution_count": 3,
   "metadata": {},
   "outputs": [
    {
     "data": {
      "text/plain": [
       "['형태소', '분리', '를', '지원', '합니다']"
      ]
     },
     "execution_count": 3,
     "metadata": {},
     "output_type": "execute_result"
    }
   ],
   "source": [
    "mecab.morphs(\"형태소 분리를 지원합니다\")"
   ]
  },
  {
   "cell_type": "code",
   "execution_count": 4,
   "metadata": {},
   "outputs": [
    {
     "data": {
      "text/plain": [
       "['명사', '해당', '형태소', '추출']"
      ]
     },
     "execution_count": 4,
     "metadata": {},
     "output_type": "execute_result"
    }
   ],
   "source": [
    " mecab.nouns(\"명사에 해당하는 형태소만 추출합니다\")"
   ]
  },
  {
   "cell_type": "code",
   "execution_count": 9,
   "metadata": {},
   "outputs": [],
   "source": [
    "# corpus.shuf.train.ko\n",
    "\n",
    "f = open(\"corpus.shuf.train.ko\", 'r', encoding='utf-8')\n",
    "lines = f.readlines()\n",
    "res = list()\n",
    "for line in lines:\n",
    "    res.append(mecab.morphs(line))\n",
    "f.close()\n",
    "\n",
    "f = open(\"corpus.shuf.train.tok.ko\", 'w', encoding='utf-8')\n",
    "for r in res:\n",
    "    f.write(' '.join(r)+'\\n')\n",
    "f.close()"
   ]
  },
  {
   "cell_type": "code",
   "execution_count": 10,
   "metadata": {},
   "outputs": [],
   "source": [
    "# corpus.shuf.valid.ko\n",
    "\n",
    "f = open(\"corpus.shuf.valid.ko\", 'r', encoding='utf-8')\n",
    "lines = f.readlines()\n",
    "res = list()\n",
    "for line in lines:\n",
    "    res.append(mecab.morphs(line))\n",
    "f.close()\n",
    "\n",
    "f = open(\"corpus.shuf.valid.tok.ko\", 'w', encoding='utf-8')\n",
    "for r in res:\n",
    "    f.write(' '.join(r)+'\\n')\n",
    "f.close()"
   ]
  },
  {
   "cell_type": "code",
   "execution_count": 11,
   "metadata": {},
   "outputs": [],
   "source": [
    "# corpus.shuf.test.ko\n",
    "\n",
    "f = open(\"corpus.shuf.test.ko\", 'r', encoding='utf-8')\n",
    "lines = f.readlines()\n",
    "res = list()\n",
    "for line in lines:\n",
    "    res.append(mecab.morphs(line))\n",
    "f.close()\n",
    "\n",
    "f = open(\"corpus.shuf.test.tok.ko\", 'w', encoding='utf-8')\n",
    "for r in res:\n",
    "    f.write(' '.join(r)+'\\n')\n",
    "f.close()"
   ]
  }
 ],
 "metadata": {
  "kernelspec": {
   "display_name": "py36",
   "language": "python",
   "name": "py36"
  },
  "language_info": {
   "codemirror_mode": {
    "name": "ipython",
    "version": 3
   },
   "file_extension": ".py",
   "mimetype": "text/x-python",
   "name": "python",
   "nbconvert_exporter": "python",
   "pygments_lexer": "ipython3",
   "version": "3.6.12"
  }
 },
 "nbformat": 4,
 "nbformat_minor": 4
}
