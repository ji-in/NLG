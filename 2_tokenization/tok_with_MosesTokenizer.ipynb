{
 "cells": [
  {
   "cell_type": "markdown",
   "metadata": {},
   "source": [
    "### 영어 문장을 tokenize하는 패키지"
   ]
  },
  {
   "cell_type": "code",
   "execution_count": 3,
   "metadata": {},
   "outputs": [],
   "source": [
    "from sacremoses import MosesTokenizer\n",
    "mt = MosesTokenizer(lang='en')"
   ]
  },
  {
   "cell_type": "code",
   "execution_count": 5,
   "metadata": {},
   "outputs": [],
   "source": [
    "# corpus.shuf.valid.en\n",
    "\n",
    "f = open(\"corpus.shuf.valid.en\", 'r', encoding='utf-8')\n",
    "lines = f.readlines()\n",
    "res = list()\n",
    "for line in lines:\n",
    "    res.append(mt.tokenize(line, return_str=True))\n",
    "f.close()\n",
    "\n",
    "f = open(\"corpus.shuf.valid.tok.en\", 'w', encoding='utf-8')\n",
    "for r in res:\n",
    "    f.write(' '.join(r)+'\\n')\n",
    "f.close()"
   ]
  },
  {
   "cell_type": "code",
   "execution_count": 6,
   "metadata": {},
   "outputs": [],
   "source": [
    "# corpus.shuf.test.en\n",
    "\n",
    "f = open(\"corpus.shuf.test.en\", 'r', encoding='utf-8')\n",
    "lines = f.readlines()\n",
    "res = list()\n",
    "for line in lines:\n",
    "    res.append(mt.tokenize(line, return_str=True))\n",
    "f.close()\n",
    "\n",
    "f = open(\"corpus.shuf.test.tok.en\", 'w', encoding='utf-8')\n",
    "for r in res:\n",
    "    f.write(' '.join(r)+'\\n')\n",
    "f.close()"
   ]
  },
  {
   "cell_type": "code",
   "execution_count": 7,
   "metadata": {},
   "outputs": [],
   "source": [
    "# corpus.shuf.valid.en\n",
    "\n",
    "f = open(\"corpus.shuf.train.en\", 'r', encoding='utf-8')\n",
    "lines = f.readlines()\n",
    "res = list()\n",
    "for line in lines:\n",
    "    res.append(mt.tokenize(line, return_str=True))\n",
    "f.close()\n",
    "\n",
    "f = open(\"corpus.shuf.train.tok.en\", 'w', encoding='utf-8')\n",
    "for r in res:\n",
    "    f.write(' '.join(r)+'\\n')\n",
    "f.close()"
   ]
  }
 ],
 "metadata": {
  "kernelspec": {
   "display_name": "Python 3",
   "language": "python",
   "name": "python3"
  },
  "language_info": {
   "codemirror_mode": {
    "name": "ipython",
    "version": 3
   },
   "file_extension": ".py",
   "mimetype": "text/x-python",
   "name": "python",
   "nbconvert_exporter": "python",
   "pygments_lexer": "ipython3",
   "version": "3.8.3"
  }
 },
 "nbformat": 4,
 "nbformat_minor": 4
}
